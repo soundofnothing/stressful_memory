# Install necessary dependencies
!pip install dash dash-core-components dash-html-components dash-table docarray google-api-python-client google-auth google-auth-httplib2 google-auth-oauthlib

# Imports
import dash
import dash_core_components as dcc
import dash_html_components as html
import dash_table
from docarray import DocArray
from dash.exceptions import PreventUpdate
from google.oauth2 import service_account
from googleapiclient.discovery import build
import sys

# Google Drive API settings
SCOPES = ['https://www.googleapis.com/auth/drive.readonly']
SERVICE_ACCOUNT_FILE: str = 'path/to/service_account_credentials.json'  # Update with your service account credentials file path
DRIVE_FILE_ID: str = 'your_drive_file_id'  # Update with your CSV file's ID in Google Drive

# DocArray settings
DB_PATH: str = 'your_database_path'


def import_csv_from_google_drive() -> DocArray:
    # Authenticate with Google Drive API
    credentials = service_account.Credentials.from_service_account_file(SERVICE_ACCOUNT_FILE, scopes=SCOPES)
    drive_service = build('drive', 'v3', credentials=credentials)

    # Download the CSV file from Google Drive
    request = drive_service.files().get_media(fileId=DRIVE_FILE_ID)
    downloader = request.execute()

    # Load the downloaded data into a DocArray object
    doc_array = DocArray(downloader)

    return doc_array


def save_docarray_to_datastore(doc_array: DocArray, datastore_path: str) -> None:
    # Save the DocArray to the datastore
    doc_array.save(datastore_path)

    print("DocArray data saved to the persistent datastore.")


# Usage example
def sync() -> None:
    try:
        # Fetch the CSV data as DocArray
        doc_array = import_csv_from_google_drive()

        # Save the DocArray to the persistent datastore
        save_docarray_to_datastore(doc_array, DB_PATH)
    except Exception as e:
        print(f"An error occurred: {str(e)}")
        sys.exit(1)


# Create a Dash app
app = dash.Dash(__name__)

# Define app layout
app.layout = html.Div(
    children=[
        html.H1("DocArray Data Visualization"),
        dcc.Loading(
            id="loading",
            type="circle",
            children=[
                html.Div(
                    children=[
                        dash_table.DataTable(
                            id="datatable",
                            columns=[{"name": col, "id": col} for col in doc_array.columns],
                            data=doc_array.get_dict(),
                            editable=True,
                            filter_action="native",
                            sort_action="native",
                        )
                    ]
                )
            ]
        ),
    ]
)


@app.callback(
    dash.dependencies.Output("datatable", "data"),
    dash.dependencies.Input("datatable", "data_timestamp"),
    dash.dependencies.State("datatable", "data"),
    dash.dependencies.State("datatable", "data_previous"),
)
def update_data(timestamp, current_data, previous_data):
    """Update the data every 5 seconds and highlight edited entries"""
    if not timestamp:
        raise PreventUpdate

    # Load the updated data from the persistent datastore or any other source
    doc_array = DocArray.load(DB_PATH)

    # Find the edited entries and highlight them
    if current_data and previous_data:
        for i in range(len(current_data)):
            for key in current_data[i]:
                if current_data[i][key] != previous_data[i][key]:
                    current_data[i][key] = {
                        "props": {
                            "style": {"font-weight": "bold", "color": "blue"}
                        },
                        "children": current_data[i][key],
                    }

    return current_data


# Run the app
if __name__ == "__main__":
    sync()
    app.run(jupyter_mode="tab")
